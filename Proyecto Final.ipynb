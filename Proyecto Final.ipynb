{
 "cells": [
  {
   "cell_type": "code",
   "execution_count": 3,
   "id": "853e3309",
   "metadata": {},
   "outputs": [],
   "source": [
    "import matplotlib.pyplot as plt\n",
    "import numpy as np\n",
    "import sympy as sp\n",
    "import pandas as pd\n",
    "import math"
   ]
  },
  {
   "cell_type": "code",
   "execution_count": 20,
   "id": "b6faa5de-87b2-4f70-9eef-4c333917a56f",
   "metadata": {},
   "outputs": [],
   "source": [
    "def load_file(file_path):\n",
    "    return pd.read_excel(file_path, header=1, index_col=0)\n",
    "    "
   ]
  },
  {
   "cell_type": "code",
   "execution_count": 24,
   "id": "da767eb8-07fd-4f31-b2c7-1a475846e17c",
   "metadata": {},
   "outputs": [],
   "source": [
    "def sample(df,n=10):\n",
    "    return df.sample(n = n)"
   ]
  },
  {
   "cell_type": "code",
   "execution_count": 16,
   "id": "451bf1f3-1f47-4d29-99f7-91c19b5005df",
   "metadata": {},
   "outputs": [],
   "source": [
    "df = pd.read_excel(\"Glucosa-Project.xlsx\", header=1, index_col=0)"
   ]
  },
  {
   "cell_type": "code",
   "execution_count": 18,
   "id": "b681631d-18af-4f8d-8e76-f882b8aa04ca",
   "metadata": {},
   "outputs": [
    {
     "data": {
      "text/html": [
       "<div>\n",
       "<style scoped>\n",
       "    .dataframe tbody tr th:only-of-type {\n",
       "        vertical-align: middle;\n",
       "    }\n",
       "\n",
       "    .dataframe tbody tr th {\n",
       "        vertical-align: top;\n",
       "    }\n",
       "\n",
       "    .dataframe thead th {\n",
       "        text-align: right;\n",
       "    }\n",
       "</style>\n",
       "<table border=\"1\" class=\"dataframe\">\n",
       "  <thead>\n",
       "    <tr style=\"text-align: right;\">\n",
       "      <th></th>\n",
       "      <th>mg/dL</th>\n",
       "    </tr>\n",
       "  </thead>\n",
       "  <tbody>\n",
       "    <tr>\n",
       "      <th>count</th>\n",
       "      <td>135.000000</td>\n",
       "    </tr>\n",
       "    <tr>\n",
       "      <th>mean</th>\n",
       "      <td>160.874074</td>\n",
       "    </tr>\n",
       "    <tr>\n",
       "      <th>std</th>\n",
       "      <td>29.055898</td>\n",
       "    </tr>\n",
       "    <tr>\n",
       "      <th>min</th>\n",
       "      <td>104.000000</td>\n",
       "    </tr>\n",
       "    <tr>\n",
       "      <th>25%</th>\n",
       "      <td>139.500000</td>\n",
       "    </tr>\n",
       "    <tr>\n",
       "      <th>50%</th>\n",
       "      <td>157.000000</td>\n",
       "    </tr>\n",
       "    <tr>\n",
       "      <th>75%</th>\n",
       "      <td>180.500000</td>\n",
       "    </tr>\n",
       "    <tr>\n",
       "      <th>max</th>\n",
       "      <td>239.000000</td>\n",
       "    </tr>\n",
       "  </tbody>\n",
       "</table>\n",
       "</div>"
      ],
      "text/plain": [
       "            mg/dL\n",
       "count  135.000000\n",
       "mean   160.874074\n",
       "std     29.055898\n",
       "min    104.000000\n",
       "25%    139.500000\n",
       "50%    157.000000\n",
       "75%    180.500000\n",
       "max    239.000000"
      ]
     },
     "execution_count": 18,
     "metadata": {},
     "output_type": "execute_result"
    }
   ],
   "source": [
    "df.describe()"
   ]
  },
  {
   "cell_type": "code",
   "execution_count": 21,
   "id": "64e58be0-bef6-4f3b-82ff-083616ccba8e",
   "metadata": {},
   "outputs": [],
   "source": [
    "df = load_file(\"Glucosa-Project.xlsx\")"
   ]
  },
  {
   "cell_type": "code",
   "execution_count": 22,
   "id": "9d7a270e-ccae-471a-891f-f05628cce379",
   "metadata": {},
   "outputs": [],
   "source": [
    "x = sample(df,10)"
   ]
  },
  {
   "cell_type": "code",
   "execution_count": 23,
   "id": "d74a172e-4b8c-46e4-a5cb-91efc9bd01e3",
   "metadata": {},
   "outputs": [
    {
     "data": {
      "text/html": [
       "<div>\n",
       "<style scoped>\n",
       "    .dataframe tbody tr th:only-of-type {\n",
       "        vertical-align: middle;\n",
       "    }\n",
       "\n",
       "    .dataframe tbody tr th {\n",
       "        vertical-align: top;\n",
       "    }\n",
       "\n",
       "    .dataframe thead th {\n",
       "        text-align: right;\n",
       "    }\n",
       "</style>\n",
       "<table border=\"1\" class=\"dataframe\">\n",
       "  <thead>\n",
       "    <tr style=\"text-align: right;\">\n",
       "      <th></th>\n",
       "      <th>Fecha</th>\n",
       "      <th>mg/dL</th>\n",
       "      <th>Hora</th>\n",
       "      <th>Condición</th>\n",
       "    </tr>\n",
       "  </thead>\n",
       "  <tbody>\n",
       "    <tr>\n",
       "      <th>83.0</th>\n",
       "      <td>2020-09-24</td>\n",
       "      <td>104.0</td>\n",
       "      <td>11:43:00</td>\n",
       "      <td>Desayuno</td>\n",
       "    </tr>\n",
       "    <tr>\n",
       "      <th>98.0</th>\n",
       "      <td>2020-11-03</td>\n",
       "      <td>186.0</td>\n",
       "      <td>12:10:00</td>\n",
       "      <td>Desayuno</td>\n",
       "    </tr>\n",
       "    <tr>\n",
       "      <th>44.0</th>\n",
       "      <td>2020-08-04</td>\n",
       "      <td>131.0</td>\n",
       "      <td>06:58:00</td>\n",
       "      <td>Ayuno</td>\n",
       "    </tr>\n",
       "    <tr>\n",
       "      <th>21.0</th>\n",
       "      <td>2020-07-14</td>\n",
       "      <td>187.0</td>\n",
       "      <td>06:56:00</td>\n",
       "      <td>Ayuno</td>\n",
       "    </tr>\n",
       "    <tr>\n",
       "      <th>116.0</th>\n",
       "      <td>2021-02-22</td>\n",
       "      <td>151.0</td>\n",
       "      <td>08:26:00</td>\n",
       "      <td>Ayuno</td>\n",
       "    </tr>\n",
       "    <tr>\n",
       "      <th>115.0</th>\n",
       "      <td>2021-02-16</td>\n",
       "      <td>164.0</td>\n",
       "      <td>08:39:00</td>\n",
       "      <td>Ayuno</td>\n",
       "    </tr>\n",
       "    <tr>\n",
       "      <th>112.0</th>\n",
       "      <td>2021-01-17</td>\n",
       "      <td>169.0</td>\n",
       "      <td>08:28:00</td>\n",
       "      <td>Ayuno</td>\n",
       "    </tr>\n",
       "    <tr>\n",
       "      <th>90.0</th>\n",
       "      <td>2020-10-14</td>\n",
       "      <td>164.0</td>\n",
       "      <td>11:36:00</td>\n",
       "      <td>Desayuno</td>\n",
       "    </tr>\n",
       "    <tr>\n",
       "      <th>71.0</th>\n",
       "      <td>2020-09-10</td>\n",
       "      <td>149.0</td>\n",
       "      <td>09:49:00</td>\n",
       "      <td>Desayuno</td>\n",
       "    </tr>\n",
       "    <tr>\n",
       "      <th>45.0</th>\n",
       "      <td>2020-08-05</td>\n",
       "      <td>130.0</td>\n",
       "      <td>08:41:00</td>\n",
       "      <td>Ayuno</td>\n",
       "    </tr>\n",
       "  </tbody>\n",
       "</table>\n",
       "</div>"
      ],
      "text/plain": [
       "           Fecha  mg/dL      Hora Condición\n",
       "83.0  2020-09-24  104.0  11:43:00  Desayuno\n",
       "98.0  2020-11-03  186.0  12:10:00  Desayuno\n",
       "44.0  2020-08-04  131.0  06:58:00     Ayuno\n",
       "21.0  2020-07-14  187.0  06:56:00     Ayuno\n",
       "116.0 2021-02-22  151.0  08:26:00     Ayuno\n",
       "115.0 2021-02-16  164.0  08:39:00     Ayuno\n",
       "112.0 2021-01-17  169.0  08:28:00     Ayuno\n",
       "90.0  2020-10-14  164.0  11:36:00  Desayuno\n",
       "71.0  2020-09-10  149.0  09:49:00  Desayuno\n",
       "45.0  2020-08-05  130.0  08:41:00     Ayuno"
      ]
     },
     "execution_count": 23,
     "metadata": {},
     "output_type": "execute_result"
    }
   ],
   "source": [
    "x"
   ]
  },
  {
   "cell_type": "code",
   "execution_count": 25,
   "id": "03a1a2b0-7f36-483d-93db-d55a109164ea",
   "metadata": {},
   "outputs": [],
   "source": [
    "import argh "
   ]
  },
  {
   "cell_type": "code",
   "execution_count": null,
   "id": "fa71b82a-3206-4aa8-bc1e-44edd3d7fe89",
   "metadata": {},
   "outputs": [],
   "source": []
  }
 ],
 "metadata": {
  "kernelspec": {
   "display_name": "Python 3",
   "language": "python",
   "name": "python3"
  },
  "language_info": {
   "codemirror_mode": {
    "name": "ipython",
    "version": 3
   },
   "file_extension": ".py",
   "mimetype": "text/x-python",
   "name": "python",
   "nbconvert_exporter": "python",
   "pygments_lexer": "ipython3",
   "version": "3.9.1"
  }
 },
 "nbformat": 4,
 "nbformat_minor": 5
}
